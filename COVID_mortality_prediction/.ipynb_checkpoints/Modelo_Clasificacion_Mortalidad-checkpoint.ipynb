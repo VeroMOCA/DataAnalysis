{
 "cells": [
  {
   "cell_type": "code",
   "execution_count": 13,
   "id": "44c78506",
   "metadata": {},
   "outputs": [],
   "source": [
    "import pandas as pd\n",
    "import numpy as np\n",
    "import matplotlib as plt\n",
    "from sklearn.metrics import roc_auc_score, accuracy_score, confusion_matrix, ConfusionMatrixDisplay\n",
    "from sklearn.model_selection import train_test_split\n",
    "from sklearn.preprocessing import StandardScaler\n",
    "\n",
    "#Modelos\n",
    "from sklearn.linear_model import LogisticRegression\n",
    "from sklearn.naive_bayes import GaussianNB\n",
    "from sklearn.ensemble import GradientBoostingClassifier\n",
    "\n",
    "#Oversampling\n",
    "from imblearn.over_sampling import RandomOverSampler, SMOTE\n",
    "\n",
    "#GridSearch\n",
    "from sklearn.model_selection import GridSearchCV\n",
    "\n",
    "import warnings\n",
    "warnings.filterwarnings('ignore')"
   ]
  },
  {
   "cell_type": "code",
   "execution_count": 2,
   "id": "3f037946",
   "metadata": {},
   "outputs": [],
   "source": [
    "df = pd.read_excel('Mortality_incidence_sociodemographic_and_clinical_data_in_COVID19_patients.xlsx')\n",
    "dataset = df.copy()"
   ]
  },
  {
   "cell_type": "code",
   "execution_count": 3,
   "id": "320a108f",
   "metadata": {},
   "outputs": [
    {
     "data": {
      "text/html": [
       "<div>\n",
       "<style scoped>\n",
       "    .dataframe tbody tr th:only-of-type {\n",
       "        vertical-align: middle;\n",
       "    }\n",
       "\n",
       "    .dataframe tbody tr th {\n",
       "        vertical-align: top;\n",
       "    }\n",
       "\n",
       "    .dataframe thead th {\n",
       "        text-align: right;\n",
       "    }\n",
       "</style>\n",
       "<table border=\"1\" class=\"dataframe\">\n",
       "  <thead>\n",
       "    <tr style=\"text-align: right;\">\n",
       "      <th></th>\n",
       "      <th>Derivation cohort</th>\n",
       "      <th>LOS_Y</th>\n",
       "      <th>LOS</th>\n",
       "      <th>Death</th>\n",
       "      <th>Age</th>\n",
       "      <th>Severity</th>\n",
       "      <th>Black</th>\n",
       "      <th>White</th>\n",
       "      <th>Asian</th>\n",
       "      <th>Latino</th>\n",
       "      <th>...</th>\n",
       "      <th>Ferritin &gt; 300</th>\n",
       "      <th>CrctProtYes</th>\n",
       "      <th>CrctProtein</th>\n",
       "      <th>C-Reactive Prot &gt; 10</th>\n",
       "      <th>ProCalCYes</th>\n",
       "      <th>Procalcitonin</th>\n",
       "      <th>Procalciton &gt; 0.1</th>\n",
       "      <th>TropYes</th>\n",
       "      <th>Troponin</th>\n",
       "      <th>Troponin &gt; 0.1</th>\n",
       "    </tr>\n",
       "  </thead>\n",
       "  <tbody>\n",
       "    <tr>\n",
       "      <th>0</th>\n",
       "      <td>1</td>\n",
       "      <td>1</td>\n",
       "      <td>1</td>\n",
       "      <td>0</td>\n",
       "      <td>&gt;80</td>\n",
       "      <td>3</td>\n",
       "      <td>0</td>\n",
       "      <td>0</td>\n",
       "      <td>0</td>\n",
       "      <td>0</td>\n",
       "      <td>...</td>\n",
       "      <td>0</td>\n",
       "      <td>1</td>\n",
       "      <td>0.4999</td>\n",
       "      <td>0</td>\n",
       "      <td>0</td>\n",
       "      <td>0.0000</td>\n",
       "      <td>0</td>\n",
       "      <td>1</td>\n",
       "      <td>0.01</td>\n",
       "      <td>0</td>\n",
       "    </tr>\n",
       "    <tr>\n",
       "      <th>1</th>\n",
       "      <td>1</td>\n",
       "      <td>1</td>\n",
       "      <td>2</td>\n",
       "      <td>1</td>\n",
       "      <td>&gt;60</td>\n",
       "      <td>7</td>\n",
       "      <td>0</td>\n",
       "      <td>1</td>\n",
       "      <td>0</td>\n",
       "      <td>0</td>\n",
       "      <td>...</td>\n",
       "      <td>1</td>\n",
       "      <td>1</td>\n",
       "      <td>14.9000</td>\n",
       "      <td>1</td>\n",
       "      <td>1</td>\n",
       "      <td>0.6000</td>\n",
       "      <td>1</td>\n",
       "      <td>1</td>\n",
       "      <td>1.20</td>\n",
       "      <td>1</td>\n",
       "    </tr>\n",
       "    <tr>\n",
       "      <th>2</th>\n",
       "      <td>1</td>\n",
       "      <td>1</td>\n",
       "      <td>2</td>\n",
       "      <td>1</td>\n",
       "      <td>&gt;80</td>\n",
       "      <td>7</td>\n",
       "      <td>0</td>\n",
       "      <td>1</td>\n",
       "      <td>0</td>\n",
       "      <td>0</td>\n",
       "      <td>...</td>\n",
       "      <td>1</td>\n",
       "      <td>1</td>\n",
       "      <td>33.9000</td>\n",
       "      <td>1</td>\n",
       "      <td>1</td>\n",
       "      <td>1.2000</td>\n",
       "      <td>1</td>\n",
       "      <td>0</td>\n",
       "      <td>0.00</td>\n",
       "      <td>0</td>\n",
       "    </tr>\n",
       "    <tr>\n",
       "      <th>3</th>\n",
       "      <td>1</td>\n",
       "      <td>1</td>\n",
       "      <td>15</td>\n",
       "      <td>0</td>\n",
       "      <td>&gt;70</td>\n",
       "      <td>9</td>\n",
       "      <td>1</td>\n",
       "      <td>0</td>\n",
       "      <td>0</td>\n",
       "      <td>0</td>\n",
       "      <td>...</td>\n",
       "      <td>1</td>\n",
       "      <td>1</td>\n",
       "      <td>18.4000</td>\n",
       "      <td>1</td>\n",
       "      <td>1</td>\n",
       "      <td>7.3000</td>\n",
       "      <td>1</td>\n",
       "      <td>1</td>\n",
       "      <td>0.05</td>\n",
       "      <td>0</td>\n",
       "    </tr>\n",
       "    <tr>\n",
       "      <th>4</th>\n",
       "      <td>1</td>\n",
       "      <td>1</td>\n",
       "      <td>9</td>\n",
       "      <td>0</td>\n",
       "      <td>&gt;70</td>\n",
       "      <td>7</td>\n",
       "      <td>1</td>\n",
       "      <td>0</td>\n",
       "      <td>0</td>\n",
       "      <td>0</td>\n",
       "      <td>...</td>\n",
       "      <td>1</td>\n",
       "      <td>1</td>\n",
       "      <td>11.6000</td>\n",
       "      <td>1</td>\n",
       "      <td>0</td>\n",
       "      <td>0.0000</td>\n",
       "      <td>0</td>\n",
       "      <td>1</td>\n",
       "      <td>0.01</td>\n",
       "      <td>0</td>\n",
       "    </tr>\n",
       "    <tr>\n",
       "      <th>...</th>\n",
       "      <td>...</td>\n",
       "      <td>...</td>\n",
       "      <td>...</td>\n",
       "      <td>...</td>\n",
       "      <td>...</td>\n",
       "      <td>...</td>\n",
       "      <td>...</td>\n",
       "      <td>...</td>\n",
       "      <td>...</td>\n",
       "      <td>...</td>\n",
       "      <td>...</td>\n",
       "      <td>...</td>\n",
       "      <td>...</td>\n",
       "      <td>...</td>\n",
       "      <td>...</td>\n",
       "      <td>...</td>\n",
       "      <td>...</td>\n",
       "      <td>...</td>\n",
       "      <td>...</td>\n",
       "      <td>...</td>\n",
       "      <td>...</td>\n",
       "    </tr>\n",
       "    <tr>\n",
       "      <th>4706</th>\n",
       "      <td>0</td>\n",
       "      <td>1</td>\n",
       "      <td>4</td>\n",
       "      <td>0</td>\n",
       "      <td>&gt;70</td>\n",
       "      <td>4</td>\n",
       "      <td>0</td>\n",
       "      <td>0</td>\n",
       "      <td>1</td>\n",
       "      <td>0</td>\n",
       "      <td>...</td>\n",
       "      <td>0</td>\n",
       "      <td>1</td>\n",
       "      <td>1.8000</td>\n",
       "      <td>0</td>\n",
       "      <td>1</td>\n",
       "      <td>0.0999</td>\n",
       "      <td>0</td>\n",
       "      <td>1</td>\n",
       "      <td>0.01</td>\n",
       "      <td>0</td>\n",
       "    </tr>\n",
       "    <tr>\n",
       "      <th>4707</th>\n",
       "      <td>0</td>\n",
       "      <td>1</td>\n",
       "      <td>2</td>\n",
       "      <td>0</td>\n",
       "      <td>&gt;60</td>\n",
       "      <td>2</td>\n",
       "      <td>0</td>\n",
       "      <td>0</td>\n",
       "      <td>0</td>\n",
       "      <td>1</td>\n",
       "      <td>...</td>\n",
       "      <td>1</td>\n",
       "      <td>1</td>\n",
       "      <td>3.1000</td>\n",
       "      <td>0</td>\n",
       "      <td>1</td>\n",
       "      <td>0.0999</td>\n",
       "      <td>0</td>\n",
       "      <td>1</td>\n",
       "      <td>0.01</td>\n",
       "      <td>0</td>\n",
       "    </tr>\n",
       "    <tr>\n",
       "      <th>4708</th>\n",
       "      <td>0</td>\n",
       "      <td>0</td>\n",
       "      <td>0</td>\n",
       "      <td>0</td>\n",
       "      <td>&gt;60</td>\n",
       "      <td>1</td>\n",
       "      <td>0</td>\n",
       "      <td>0</td>\n",
       "      <td>0</td>\n",
       "      <td>0</td>\n",
       "      <td>...</td>\n",
       "      <td>0</td>\n",
       "      <td>1</td>\n",
       "      <td>0.4999</td>\n",
       "      <td>0</td>\n",
       "      <td>1</td>\n",
       "      <td>0.0000</td>\n",
       "      <td>0</td>\n",
       "      <td>0</td>\n",
       "      <td>0.00</td>\n",
       "      <td>0</td>\n",
       "    </tr>\n",
       "    <tr>\n",
       "      <th>4709</th>\n",
       "      <td>0</td>\n",
       "      <td>0</td>\n",
       "      <td>0</td>\n",
       "      <td>0</td>\n",
       "      <td>&gt;80</td>\n",
       "      <td>3</td>\n",
       "      <td>1</td>\n",
       "      <td>0</td>\n",
       "      <td>0</td>\n",
       "      <td>0</td>\n",
       "      <td>...</td>\n",
       "      <td>1</td>\n",
       "      <td>1</td>\n",
       "      <td>8.6000</td>\n",
       "      <td>0</td>\n",
       "      <td>1</td>\n",
       "      <td>0.1000</td>\n",
       "      <td>0</td>\n",
       "      <td>1</td>\n",
       "      <td>0.01</td>\n",
       "      <td>0</td>\n",
       "    </tr>\n",
       "    <tr>\n",
       "      <th>4710</th>\n",
       "      <td>0</td>\n",
       "      <td>0</td>\n",
       "      <td>0</td>\n",
       "      <td>0</td>\n",
       "      <td>0-60</td>\n",
       "      <td>2</td>\n",
       "      <td>1</td>\n",
       "      <td>0</td>\n",
       "      <td>0</td>\n",
       "      <td>0</td>\n",
       "      <td>...</td>\n",
       "      <td>0</td>\n",
       "      <td>1</td>\n",
       "      <td>0.0000</td>\n",
       "      <td>0</td>\n",
       "      <td>1</td>\n",
       "      <td>0.0000</td>\n",
       "      <td>0</td>\n",
       "      <td>0</td>\n",
       "      <td>0.00</td>\n",
       "      <td>0</td>\n",
       "    </tr>\n",
       "  </tbody>\n",
       "</table>\n",
       "<p>4711 rows × 85 columns</p>\n",
       "</div>"
      ],
      "text/plain": [
       "      Derivation cohort  LOS_Y  LOS  Death   Age  Severity  Black  White  \\\n",
       "0                     1      1    1      0   >80         3      0      0   \n",
       "1                     1      1    2      1   >60         7      0      1   \n",
       "2                     1      1    2      1   >80         7      0      1   \n",
       "3                     1      1   15      0   >70         9      1      0   \n",
       "4                     1      1    9      0   >70         7      1      0   \n",
       "...                 ...    ...  ...    ...   ...       ...    ...    ...   \n",
       "4706                  0      1    4      0   >70         4      0      0   \n",
       "4707                  0      1    2      0   >60         2      0      0   \n",
       "4708                  0      0    0      0   >60         1      0      0   \n",
       "4709                  0      0    0      0   >80         3      1      0   \n",
       "4710                  0      0    0      0  0-60         2      1      0   \n",
       "\n",
       "      Asian  Latino  ...  Ferritin > 300  CrctProtYes  CrctProtein  \\\n",
       "0         0       0  ...               0            1       0.4999   \n",
       "1         0       0  ...               1            1      14.9000   \n",
       "2         0       0  ...               1            1      33.9000   \n",
       "3         0       0  ...               1            1      18.4000   \n",
       "4         0       0  ...               1            1      11.6000   \n",
       "...     ...     ...  ...             ...          ...          ...   \n",
       "4706      1       0  ...               0            1       1.8000   \n",
       "4707      0       1  ...               1            1       3.1000   \n",
       "4708      0       0  ...               0            1       0.4999   \n",
       "4709      0       0  ...               1            1       8.6000   \n",
       "4710      0       0  ...               0            1       0.0000   \n",
       "\n",
       "      C-Reactive Prot > 10  ProCalCYes  Procalcitonin  Procalciton > 0.1  \\\n",
       "0                        0           0         0.0000                  0   \n",
       "1                        1           1         0.6000                  1   \n",
       "2                        1           1         1.2000                  1   \n",
       "3                        1           1         7.3000                  1   \n",
       "4                        1           0         0.0000                  0   \n",
       "...                    ...         ...            ...                ...   \n",
       "4706                     0           1         0.0999                  0   \n",
       "4707                     0           1         0.0999                  0   \n",
       "4708                     0           1         0.0000                  0   \n",
       "4709                     0           1         0.1000                  0   \n",
       "4710                     0           1         0.0000                  0   \n",
       "\n",
       "      TropYes  Troponin  Troponin > 0.1  \n",
       "0           1      0.01               0  \n",
       "1           1      1.20               1  \n",
       "2           0      0.00               0  \n",
       "3           1      0.05               0  \n",
       "4           1      0.01               0  \n",
       "...       ...       ...             ...  \n",
       "4706        1      0.01               0  \n",
       "4707        1      0.01               0  \n",
       "4708        0      0.00               0  \n",
       "4709        1      0.01               0  \n",
       "4710        0      0.00               0  \n",
       "\n",
       "[4711 rows x 85 columns]"
      ]
     },
     "execution_count": 3,
     "metadata": {},
     "output_type": "execute_result"
    }
   ],
   "source": [
    "dataset"
   ]
  },
  {
   "cell_type": "code",
   "execution_count": 4,
   "id": "5f96143a",
   "metadata": {},
   "outputs": [],
   "source": [
    "dataset = dataset.drop(['Age','Derivation cohort'], axis =1)"
   ]
  },
  {
   "cell_type": "code",
   "execution_count": 5,
   "id": "48d03a1f",
   "metadata": {},
   "outputs": [],
   "source": [
    "def split_dataset(X, y):\n",
    "    X_train, X_test, y_train, y_test = train_test_split(X, y, test_size=0.3, random_state=221)\n",
    "    return X_train, X_test, y_train, y_test"
   ]
  },
  {
   "cell_type": "code",
   "execution_count": 6,
   "id": "6de72e3b",
   "metadata": {},
   "outputs": [],
   "source": [
    "def accuracy(TP, TN, FP, FN):\n",
    "    a = (TP + TN) / (TP + TN + FP + FN)\n",
    "    accuracy_valor = a * 100\n",
    "    return accuracy_valor\n",
    "\n",
    "def sensibilidad(TP, TN, FP, FN):\n",
    "    s = TP / (TP + FN)\n",
    "    sensibilidad_valor = s * 100\n",
    "    return sensibilidad_valor\n",
    "\n",
    "def especificidad(TP, TN, FP, FN):\n",
    "    e = TN / (TN + FP)\n",
    "    especificidad_valor = e * 100\n",
    "    return especificidad_valor\n",
    "\n",
    "def evaluar_modelo(y_test, y_pred):\n",
    "    matrix = confusion_matrix(y_test, y_pred)\n",
    "    (TN, FP, FN, TP) = matrix.ravel()\n",
    "    \n",
    "    accuracy_valor = accuracy(TP, TN, FP, FN)\n",
    "    sensibilidad_valor= sensibilidad(TP, TN, FP, FN)\n",
    "    especificidad_valor = especificidad(TP, TN, FP, FN)\n",
    "    return accuracy_valor, sensibilidad_valor, especificidad_valor"
   ]
  },
  {
   "cell_type": "code",
   "execution_count": 7,
   "id": "631a1010",
   "metadata": {},
   "outputs": [],
   "source": [
    "def confussion_matrix(y_test, y_pred, model_name):\n",
    "    m = confusion_matrix(y_test, y_pred)\n",
    "    cm_object = ConfusionMatrixDisplay(m).plot(cmap=plt.cm.Blues)\n",
    "    cm_object.ax_.set(\n",
    "                        title = model_name,\n",
    "                        xlabel = 'Predicted',\n",
    "                        ylabel = 'Actual')"
   ]
  },
  {
   "cell_type": "code",
   "execution_count": 8,
   "id": "4b7e7b5d",
   "metadata": {},
   "outputs": [],
   "source": [
    "def probar_modelos(modelos,nombres, x_train, x_test, y_train, y_test, plot_matrix):\n",
    "    df_resultados = pd.DataFrame()\n",
    "    for modelo , name in zip (modelos, nombres):\n",
    "        #print(name)\n",
    "        nombre_modelo = type(modelo).__name__\n",
    "        modelo.fit(x_train, y_train)\n",
    "        y_pred = modelo.predict(x_test)\n",
    "        accuracy, sensibilidad, especificidad = evaluar_modelo(y_test, y_pred)\n",
    "        df_resultados[name] = {'Exactitud': accuracy, 'Sensibilidad': sensibilidad, 'Especificidad': especificidad}\n",
    "        if plot_matrix == 'yes':\n",
    "            confussion_matrix(y_test, y_pred, name)\n",
    "        else:\n",
    "            pass\n",
    "        \n",
    "    return df_resultados"
   ]
  },
  {
   "cell_type": "code",
   "execution_count": 10,
   "id": "48f50894",
   "metadata": {},
   "outputs": [],
   "source": [
    "y = dataset.Death\n",
    "X = dataset.copy()\n",
    "X = X.drop(['Death'], axis=1)"
   ]
  },
  {
   "cell_type": "code",
   "execution_count": 19,
   "id": "4cf73bea",
   "metadata": {},
   "outputs": [],
   "source": [
    "scaler = StandardScaler()\n",
    "dataset_normalizada = scaler.fit_transform(X)\n",
    "X_normalizada = dataset_normalizada.copy()\n",
    "X_train_nom, X_test_nom, y_train, y_test = split_dataset(X_normalizada,y)\n",
    "\n",
    "oversampler = RandomOverSampler(random_state = 1)\n",
    "X_train_os, y_train_os = oversampler.fit_resample(X_train_nom, y_train)\n",
    "\n",
    "oversampler = SMOTE(random_state = 1)\n",
    "X_train_smote, y_train_smote = oversampler.fit_resample(X_train_nom, y_train)"
   ]
  },
  {
   "cell_type": "markdown",
   "id": "5f1b2120",
   "metadata": {},
   "source": [
    "## LogisticRegression"
   ]
  },
  {
   "cell_type": "code",
   "execution_count": 17,
   "id": "07722221",
   "metadata": {},
   "outputs": [
    {
     "data": {
      "text/plain": [
       "(77.65205091937766, 77.33711048158641, 77.75683317624882)"
      ]
     },
     "execution_count": 17,
     "metadata": {},
     "output_type": "execute_result"
    }
   ],
   "source": [
    "logisticRegr_os = LogisticRegression(C= 1.0, penalty= 'l2', solver = 'newton-cg')\n",
    "logisticRegr_os.fit(X_train_os, y_train_os)\n",
    "y_pred = logisticRegr_os.predict(X_test_nom)\n",
    "evaluar_modelo(y_test, y_pred)"
   ]
  },
  {
   "cell_type": "code",
   "execution_count": 18,
   "id": "6148a697",
   "metadata": {},
   "outputs": [
    {
     "data": {
      "image/png": "[encoded data removed]",
      "text/plain": [
       "<Figure size 640x480 with 2 Axes>"
      ]
     },
     "metadata": {},
     "output_type": "display_data"
    }
   ],
   "source": [
    "confussion_matrix(y_test, y_pred, 'LogisticRegression')"
   ]
  },
  {
   "cell_type": "code",
   "execution_count": 20,
   "id": "63e89899",
   "metadata": {},
   "outputs": [
    {
     "data": {
      "text/plain": [
       "(77.7934936350778, 76.48725212464589, 78.22808671065033)"
      ]
     },
     "execution_count": 20,
     "metadata": {},
     "output_type": "execute_result"
    }
   ],
   "source": [
    "logisticRegr_os = LogisticRegression(C= 1.0, penalty= 'l2', solver = 'newton-cg')\n",
    "logisticRegr_os.fit(X_train_smote, y_train_smote)\n",
    "y_pred = logisticRegr_os.predict(X_test_nom)\n",
    "evaluar_modelo(y_test, y_pred)"
   ]
  },
  {
   "cell_type": "code",
   "execution_count": 21,
   "id": "9227d7b1",
   "metadata": {},
   "outputs": [
    {
     "data": {
      "image/png": "[encoded data removed]",
      "text/plain": [
       "<Figure size 640x480 with 2 Axes>"
      ]
     },
     "metadata": {},
     "output_type": "display_data"
    }
   ],
   "source": [
    "confussion_matrix(y_test, y_pred, 'LogisticRegression')"
   ]
  },
  {
   "cell_type": "markdown",
   "id": "ae793282",
   "metadata": {},
   "source": [
    "## Naive Gaussian"
   ]
  },
  {
   "cell_type": "code",
   "execution_count": 24,
   "id": "094a52b3",
   "metadata": {},
   "outputs": [
    {
     "data": {
      "text/plain": [
       "(75.31824611032532, 66.85552407932012, 78.13383600377003)"
      ]
     },
     "execution_count": 24,
     "metadata": {},
     "output_type": "execute_result"
    }
   ],
   "source": [
    "gaussiannb_os = GaussianNB(var_smoothing = 1e-09)\n",
    "gaussiannb_os.fit(X_train_os, y_train_os)\n",
    "y_pred = gaussiannb_os.predict(X_test_nom)\n",
    "evaluar_modelo(y_test, y_pred)"
   ]
  },
  {
   "cell_type": "code",
   "execution_count": 25,
   "id": "0ebe1e58",
   "metadata": {},
   "outputs": [
    {
     "data": {
      "image/png": "[encoded data removed]",
      "text/plain": [
       "<Figure size 640x480 with 2 Axes>"
      ]
     },
     "metadata": {},
     "output_type": "display_data"
    }
   ],
   "source": [
    "confussion_matrix(y_test, y_pred, 'LogisticRegression')"
   ]
  },
  {
   "cell_type": "code",
   "execution_count": 26,
   "id": "5661594a",
   "metadata": {},
   "outputs": [
    {
     "data": {
      "text/plain": [
       "(72.63083451202263, 73.08781869688386, 72.47879359095192)"
      ]
     },
     "execution_count": 26,
     "metadata": {},
     "output_type": "execute_result"
    }
   ],
   "source": [
    "gaussiannb_os = GaussianNB(var_smoothing = 1e-09)\n",
    "gaussiannb_os.fit(X_train_smote, y_train_smote)\n",
    "y_pred = gaussiannb_os.predict(X_test_nom)\n",
    "evaluar_modelo(y_test, y_pred)"
   ]
  },
  {
   "cell_type": "code",
   "execution_count": 27,
   "id": "85aaeeaf",
   "metadata": {},
   "outputs": [
    {
     "data": {
      "image/png": "[encoded data removed]",
      "text/plain": [
       "<Figure size 640x480 with 2 Axes>"
      ]
     },
     "metadata": {},
     "output_type": "display_data"
    }
   ],
   "source": [
    "confussion_matrix(y_test, y_pred, 'LogisticRegression')"
   ]
  }
 ],
 "metadata": {
  "kernelspec": {
   "display_name": "Python 3 (ipykernel)",
   "language": "python",
   "name": "python3"
  },
  "language_info": {
   "codemirror_mode": {
    "name": "ipython",
    "version": 3
   },
   "file_extension": ".py",
   "mimetype": "text/x-python",
   "name": "python",
   "nbconvert_exporter": "python",
   "pygments_lexer": "ipython3",
   "version": "3.10.9"
  }
 },
 "nbformat": 4,
 "nbformat_minor": 5
}
